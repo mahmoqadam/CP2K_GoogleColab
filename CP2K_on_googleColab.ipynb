{
  "nbformat": 4,
  "nbformat_minor": 0,
  "metadata": {
    "colab": {
      "name": "CP2K_on_googleColab_H2Os.ipynb",
      "provenance": [],
      "collapsed_sections": []
    },
    "kernelspec": {
      "name": "python3",
      "display_name": "Python 3"
    }
  },
  "cells": [
    {
      "cell_type": "markdown",
      "metadata": {
        "id": "V_1BGBrTDifr"
      },
      "source": [
        "\n",
        "# **CP2K on GoogleColab**\n",
        "\n",
        "*by Mahmoud Moqadam & Thibault Michel Joseph Tubiana*"
      ]
    },
    {
      "cell_type": "markdown",
      "metadata": {
        "id": "Bqcdt1FLoGcS"
      },
      "source": [
        "## 1. Preparation (_installation and file creation_)"
      ]
    },
    {
      "cell_type": "code",
      "metadata": {
        "id": "w4wNS2Y99QcO"
      },
      "source": [
        "#Information on CPU available\n",
        "!lscpu"
      ],
      "execution_count": null,
      "outputs": []
    },
    {
      "cell_type": "code",
      "metadata": {
        "id": "fhA7a0izn-Mx"
      },
      "source": [
        "#CONDA IS NOT PRESENT. You have to instal it first.\n",
        "!wget https://repo.continuum.io/miniconda/Miniconda3-4.5.4-Linux-x86_64.sh && bash Miniconda3-4.5.4-Linux-x86_64.sh -bfp /usr/local\n",
        "#Add the new install conda package in path.\n",
        "import sys\n",
        "sys.path.append('/usr/local/lib/python3.6/site-packages')\n",
        "#Install all dependancies.\n",
        "!conda install -y -c conda-forge -c eumetsat cp2k fftw3 blas=2.5=mkl \n",
        "# Doing some things\n",
        "!cd /content/\n",
        "!mkdir -p cp2k\n",
        "!cd cp2k\n",
        "!pwd\n",
        "!ls"
      ],
      "execution_count": null,
      "outputs": []
    },
    {
      "cell_type": "markdown",
      "metadata": {
        "id": "Pm6BUmWpo-sk"
      },
      "source": [
        "## 2. Running CP2K"
      ]
    },
    {
      "cell_type": "code",
      "metadata": {
        "id": "R7IAL03rHD4o"
      },
      "source": [
        "# create a empty \"out\" file\n",
        "!touch out \n",
        "# Run CP2K\n",
        "!cp2k.sopt -o out FILE_NAME.inp & tail -f out"
      ],
      "execution_count": null,
      "outputs": []
    },
    {
      "cell_type": "markdown",
      "metadata": {
        "id": "5XeORO_KzQYF"
      },
      "source": [
        "###3. Analysis Archive and download the results."
      ]
    },
    {
      "cell_type": "code",
      "metadata": {
        "id": "sHpOMyO-OYsY"
      },
      "source": [
        "# Plot temperature, potential, and conserved quantity profiles \n",
        "from scipy import *\n",
        "import numpy as np  \n",
        "import matplotlib.pyplot as plt\n",
        "\n",
        "data = np.loadtxt('FILE_NAME-1.ener')\n",
        "\n",
        "plt.plot(data[:,0], data[:,3], 'r.') \n",
        "plt.show()"
      ],
      "execution_count": null,
      "outputs": []
    },
    {
      "cell_type": "code",
      "metadata": {
        "id": "pUrnev2VECuV"
      },
      "source": [
        "!cd /content/cp2k/\n",
        "!zip FILE_NAME_results.zip FILE_NAME* \n",
        "!rm FILE_NAME-* \n",
        "from google.colab import files\n",
        "files.download('FILE_NAME_results.zip')"
      ],
      "execution_count": null,
      "outputs": []
    }
  ]
}